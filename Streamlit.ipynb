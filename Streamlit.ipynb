{
  "nbformat": 4,
  "nbformat_minor": 0,
  "metadata": {
    "colab": {
      "provenance": [],
      "authorship_tag": "ABX9TyPG0aMutNWVfWaBsLhJ35WO",
      "include_colab_link": true
    },
    "kernelspec": {
      "name": "python3",
      "display_name": "Python 3"
    },
    "language_info": {
      "name": "python"
    }
  },
  "cells": [
    {
      "cell_type": "markdown",
      "metadata": {
        "id": "view-in-github",
        "colab_type": "text"
      },
      "source": [
        "<a href=\"https://colab.research.google.com/github/pavananna/Project-8/blob/main/Streamlit.ipynb\" target=\"_parent\"><img src=\"https://colab.research.google.com/assets/colab-badge.svg\" alt=\"Open In Colab\"/></a>"
      ]
    },
    {
      "cell_type": "code",
      "execution_count": null,
      "metadata": {
        "id": "bco4Tf6sISc2"
      },
      "outputs": [],
      "source": [
        "import streamlit as st\n",
        "import pandas as pd\n",
        "\n",
        "# Load data\n",
        "@st.cache\n",
        "def load_data():\n",
        "    df = pd.read_csv('updated_data.csv')\n",
        "    df['published_date'] = pd.to_datetime(df['published_date'])\n",
        "    df['year_month'] = df['published_date'].dt.to_period('M')\n",
        "    return df\n",
        "\n",
        "df = load_data()\n",
        "\n",
        "# Sidebar for user input\n",
        "st.sidebar.header(\"Job Market Insights\")\n",
        "metric = st.sidebar.selectbox(\"Choose a Metric to Analyze\", ['Roles', 'Salaries', 'Categories'])\n",
        "\n",
        "# Dashboard title\n",
        "st.title(\"Dynamic Job Market Trends\")\n",
        "\n",
        "if metric == 'Roles':\n",
        "    st.header(\"Top In-Demand Roles\")\n",
        "    role_counts = df['title'].value_counts().head(10)\n",
        "    st.bar_chart(role_counts)\n",
        "\n",
        "elif metric == 'Salaries':\n",
        "    st.header(\"Salary Trends Over Time\")\n",
        "    salary_trends = df.groupby('year_month')['budget'].mean()\n",
        "    st.line_chart(salary_trends)\n",
        "\n",
        "elif metric == 'Categories':\n",
        "    st.header(\"Most Popular Job Categories\")\n",
        "    category_counts = df['category'].value_counts().head(10)\n",
        "    st.bar_chart(category_counts)\n",
        "\n",
        "# Display raw data (optional)\n",
        "if st.checkbox(\"Show Raw Data\"):\n",
        "    st.dataframe(df)"
      ]
    }
  ]
}